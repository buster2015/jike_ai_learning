{
  "nbformat": 4,
  "nbformat_minor": 0,
  "metadata": {
    "colab": {
      "name": "homework_0430.ipynb",
      "provenance": [],
      "collapsed_sections": [],
      "authorship_tag": "ABX9TyM1EXXYj4EHHRdD1rpObban",
      "include_colab_link": true
    },
    "kernelspec": {
      "name": "python3",
      "display_name": "Python 3"
    },
    "language_info": {
      "name": "python"
    }
  },
  "cells": [
    {
      "cell_type": "markdown",
      "metadata": {
        "id": "view-in-github",
        "colab_type": "text"
      },
      "source": [
        "<a href=\"https://colab.research.google.com/github/buster2015/jike_ai_learning/blob/master/homework_0430.ipynb\" target=\"_parent\"><img src=\"https://colab.research.google.com/assets/colab-badge.svg\" alt=\"Open In Colab\"/></a>"
      ]
    },
    {
      "cell_type": "code",
      "metadata": {
        "id": "dA1oWJmiZgx6"
      },
      "source": [
        "# coding = 'utf-8'\n",
        "import numpy as np\n",
        "import pandas as pd\n",
        "import time\n",
        "\n",
        "def target_mean_v1(data, y_name, x_name):\n",
        "    result = np.zeros(data.shape[0])\n",
        "    for i in range(data.shape[0]):\n",
        "        groupby_result = data[data.index != i].groupby([x_name], as_index=False).agg(['mean', 'count'])\n",
        "        result[i] = groupby_result.loc[groupby_result.index == data.loc[i, x_name], (y_name, 'mean')]\n",
        "    return result\n",
        "\n",
        "\n",
        "def target_mean_v2(data, y_name, x_name):\n",
        "    result = np.zeros(data.shape[0])#申请同等大小的0元素数组\n",
        "    value_dict = dict()\n",
        "    count_dict = dict()\n",
        "    for i in range(data.shape[0]):\n",
        "        if data.loc[i, x_name] not in value_dict.keys():\n",
        "            value_dict[data.loc[i, x_name]] = data.loc[i, y_name]\n",
        "            count_dict[data.loc[i, x_name]] = 1\n",
        "        else:\n",
        "            value_dict[data.loc[i, x_name]] += data.loc[i, y_name]\n",
        "            count_dict[data.loc[i, x_name]] += 1\n",
        "            \n",
        "    for i in range(data.shape[0]):\n",
        "        result[i] = (value_dict[data.loc[i, x_name]] - data.loc[i, y_name]) / (count_dict[data.loc[i, x_name]] - 1)\n",
        "    return result"
      ],
      "execution_count": 1,
      "outputs": []
    },
    {
      "cell_type": "code",
      "metadata": {
        "id": "I3m3cwheZ33p"
      },
      "source": [
        "%reload_ext Cython"
      ],
      "execution_count": 2,
      "outputs": []
    },
    {
      "cell_type": "code",
      "metadata": {
        "id": "dpT8RBZFZtP9"
      },
      "source": [
        "%%cython\n",
        "\n",
        "cimport numpy as np\n",
        "import numpy as np\n",
        "\n",
        "cpdef target_mean_v4(long [:,:] data, str y_name, str x_name):\n",
        "    result = np.zeros(data.shape[0])#申请同等大小的0元素数组\n",
        "    value_dict = dict()\n",
        "    count_dict = dict()\n",
        "    for i in range(data.shape[0]):\n",
        "        if data[i,1] not in value_dict.keys():\n",
        "            value_dict[data[i,1]] = data[i,0]\n",
        "            count_dict[data[i,1]] = 1\n",
        "        else:\n",
        "            value_dict[data[i,1]] += data[i,0]\n",
        "            count_dict[data[i,1]] += 1\n",
        "    \n",
        "    for i in range(data.shape[0]):\n",
        "        result[i] = (value_dict[data[i,1]] - data[i,0]) / (count_dict[data[i,1]] - 1)\n",
        "    return result"
      ],
      "execution_count": 5,
      "outputs": []
    },
    {
      "cell_type": "code",
      "metadata": {
        "colab": {
          "base_uri": "https://localhost:8080/"
        },
        "id": "OprkkV08Z9O6",
        "outputId": "a58261dd-b959-4101-a49a-f5b49fb38895"
      },
      "source": [
        "import pandas as pd\n",
        "import time \n",
        "def main():\n",
        "    y = np.random.randint(2, size=(5000, 1))\n",
        "    x = np.random.randint(10, size=(5000, 1))\n",
        "    data = pd.DataFrame(np.concatenate([y, x], axis=1), columns=['y', 'x'])\n",
        "    \n",
        "    \n",
        "    time_start_2 = time.time() #开始计时\n",
        "    result_2 = target_mean_v2(data, 'y', 'x')\n",
        "    time_end_2 = time.time() #结束计时\n",
        "    time_c_2= time_end_2 - time_start_2   #运行所花时间\n",
        "    print('time cost', time_c_2, 's')\n",
        "    \n",
        "    time_start_4 = time.time() #开始计时\n",
        "    result_4 = target_mean_v4(data.values, 'y', 'x')\n",
        "    time_end_4 = time.time() #结束计时\n",
        "    time_c_4= time_end_4 - time_start_4   #运行所花时间\n",
        "    print('time cost', time_c_4, 's')\n",
        "    diff = np.linalg.norm(result_4 - result_2)\n",
        "    print(diff)\n",
        "    \n",
        "if __name__ == '__main__':\n",
        "    main()"
      ],
      "execution_count": 6,
      "outputs": [
        {
          "output_type": "stream",
          "text": [
            "time cost 0.3282506465911865 s\n",
            "time cost 0.0023767948150634766 s\n",
            "0.0\n"
          ],
          "name": "stdout"
        }
      ]
    }
  ]
}