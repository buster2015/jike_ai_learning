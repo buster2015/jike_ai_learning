{
  "nbformat": 4,
  "nbformat_minor": 0,
  "metadata": {
    "colab": {
      "name": "course_set.ipynb",
      "provenance": [],
      "collapsed_sections": [
        "BRCVCTTjsuW2"
      ],
      "authorship_tag": "ABX9TyOs1tdrJJG1D6gaXBCJFtDB",
      "include_colab_link": true
    },
    "kernelspec": {
      "name": "python3",
      "display_name": "Python 3"
    },
    "language_info": {
      "name": "python"
    }
  },
  "cells": [
    {
      "cell_type": "markdown",
      "metadata": {
        "id": "view-in-github",
        "colab_type": "text"
      },
      "source": [
        "<a href=\"https://colab.research.google.com/github/buster2015/jike_ai_learning/blob/master/course_set.ipynb\" target=\"_parent\"><img src=\"https://colab.research.google.com/assets/colab-badge.svg\" alt=\"Open In Colab\"/></a>"
      ]
    },
    {
      "cell_type": "markdown",
      "metadata": {
        "id": "BRCVCTTjsuW2"
      },
      "source": [
        "\n",
        "# learning环境搭建"
      ]
    },
    {
      "cell_type": "code",
      "metadata": {
        "colab": {
          "base_uri": "https://localhost:8080/"
        },
        "id": "wnNM5kkmktc6",
        "outputId": "46285a85-8a03-477e-fd1a-62b7339bd5ec"
      },
      "source": [
        "print(123)"
      ],
      "execution_count": 1,
      "outputs": [
        {
          "output_type": "stream",
          "text": [
            "123\n"
          ],
          "name": "stdout"
        }
      ]
    }
  ]
}